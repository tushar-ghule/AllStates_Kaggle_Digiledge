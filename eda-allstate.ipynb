{
 "cells": [
  {
   "cell_type": "code",
   "execution_count": 1,
   "metadata": {
    "_cell_guid": "b1076dfc-b9ad-4769-8c92-a6c4dae69d19",
    "_uuid": "8f2839f25d086af736a60e9eeb907d3b93b6e0e5"
   },
   "outputs": [
    {
     "name": "stdout",
     "output_type": "stream",
     "text": [
      "/kaggle/input/allstate-claims-severity/train.csv.zip\n",
      "/kaggle/input/allstate-claims-severity/test.csv\n",
      "/kaggle/input/allstate-claims-severity/sample_submission.csv\n",
      "/kaggle/input/allstate-claims-severity/train.csv\n",
      "/kaggle/input/allstate-claims-severity/test.csv.zip\n",
      "/kaggle/input/allstate-claims-severity/sample_submission.csv.zip\n"
     ]
    }
   ],
   "source": [
    "# This Python 3 environment comes with many helpful analytics libraries installed\n",
    "# It is defined by the kaggle/python docker image: https://github.com/kaggle/docker-python\n",
    "# For example, here's several helpful packages to load in \n",
    "\n",
    "import numpy as np # linear algebra\n",
    "import pandas as pd # data processing, CSV file I/O (e.g. pd.read_csv)\n",
    "\n",
    "# Input data files are available in the \"../input/\" directory.\n",
    "# For example, running this (by clicking run or pressing Shift+Enter) will list all files under the input directory\n",
    "\n",
    "import os\n",
    "for dirname, _, filenames in os.walk('/kaggle/input'):\n",
    "    for filename in filenames:\n",
    "        print(os.path.join(dirname, filename))\n",
    "\n",
    "# Any results you write to the current directory are saved as output."
   ]
  },
  {
   "cell_type": "code",
   "execution_count": 2,
   "metadata": {},
   "outputs": [],
   "source": [
    "#### Import Dependencies\n",
    "%matplotlib inline\n",
    "#### Start Python Imports\n",
    "import math, time, random, datetime\n",
    "#### Data Manipulation\n",
    "import numpy as np\n",
    "import pandas as pd\n",
    "#### Visualization \n",
    "import matplotlib.pyplot as plt\n",
    "import missingno\n",
    "import seaborn as sns\n",
    "plt.style.use('seaborn-whitegrid')\n",
    "\n",
    "#### Preprocessing\n",
    "from sklearn.preprocessing import OneHotEncoder, LabelEncoder, label_binarize\n",
    "\n",
    "#### Machine learning\n",
    "import catboost\n",
    "from sklearn.model_selection import train_test_split\n",
    "from sklearn import model_selection, tree, preprocessing, metrics, linear_model\n",
    "from sklearn.svm import LinearSVC\n",
    "from sklearn.ensemble import GradientBoostingClassifier\n",
    "from sklearn.neighbors import KNeighborsClassifier\n",
    "from sklearn.naive_bayes import GaussianNB\n",
    "from sklearn.linear_model import LinearRegression, LogisticRegression, SGDClassifier\n",
    "from sklearn.tree import DecisionTreeClassifier\n",
    "from catboost import CatBoostClassifier, Pool, cv\n",
    "\n",
    "##### Let's be rebels and ignore warnings for now\n",
    "import warnings\n",
    "warnings.filterwarnings('ignore')\n"
   ]
  },
  {
   "cell_type": "code",
   "execution_count": 3,
   "metadata": {},
   "outputs": [],
   "source": [
    "import pandas as pd \n",
    "train = pd.read_csv(\"../input/allstate-claims-severity/train.csv\")\n",
    "test = pd.read_csv(\"../input/allstate-claims-severity/test.csv\")\n",
    "\n",
    "#Print all rows and columns. Dont hide any\n",
    "pd.set_option('display.max_rows', None)\n",
    "pd.set_option('display.max_columns', None)"
   ]
  },
  {
   "cell_type": "code",
   "execution_count": 4,
   "metadata": {},
   "outputs": [
    {
     "name": "stdout",
     "output_type": "stream",
     "text": [
      "(188318, 132)\n",
      "(125546, 131)\n"
     ]
    }
   ],
   "source": [
    "#Understand the data\n",
    "print(train.shape)\n",
    "print(test.shape)"
   ]
  },
  {
   "cell_type": "code",
   "execution_count": 5,
   "metadata": {},
   "outputs": [
    {
     "name": "stdout",
     "output_type": "stream",
     "text": [
      "count    188318.000000\n",
      "mean       3037.337686\n",
      "std        2904.086186\n",
      "min           0.670000\n",
      "25%        1204.460000\n",
      "50%        2115.570000\n",
      "75%        3864.045000\n",
      "max      121012.250000\n",
      "Name: loss, dtype: float64\n",
      "\n",
      "The loss/target skewness :  3.7949583775378604\n"
     ]
    }
   ],
   "source": [
    "# Save the test id for later submission \n",
    "# and drop the id from train and test. As id is unique for all rows and don't carry any information \n",
    "test_id = test[\"id\"]\n",
    "test.drop(\"id\", axis = 1, inplace = True)\n",
    "train.drop(\"id\", axis = 1, inplace = True)\n",
    "print(train.loss.describe())\n",
    "print(\"\")\n",
    "print(\"The loss/target skewness : \",train.loss.skew())"
   ]
  },
  {
   "cell_type": "code",
   "execution_count": 6,
   "metadata": {},
   "outputs": [
    {
     "data": {
      "image/png": "[encoded data removed]",
      "text/plain": [
       "<Figure size 432x288 with 1 Axes>"
      ]
     },
     "metadata": {},
     "output_type": "display_data"
    },
    {
     "data": {
      "image/png": "[encoded data removed]",
      "text/plain": [
       "<Figure size 432x288 with 1 Axes>"
      ]
     },
     "metadata": {},
     "output_type": "display_data"
    }
   ],
   "source": [
    "# since the skewness of loss is about 3, which is higher. Hence it should be corrected. \n",
    "#I have choosen to go with log1p\n",
    "\n",
    "#Before skew correction \n",
    "sns.violinplot(data=train,y=\"loss\")  \n",
    "plt.show()\n",
    "\n",
    "train[\"loss\"] = np.log1p(train[\"loss\"])\n",
    "\n",
    "#visualize the transformed column\n",
    "sns.violinplot(data=train,y=\"loss\")  \n",
    "plt.show()"
   ]
  },
  {
   "cell_type": "code",
   "execution_count": 7,
   "metadata": {},
   "outputs": [
    {
     "data": {
      "text/plain": [
       "count    188318.000000\n",
       "mean          7.685908\n",
       "std           0.811309\n",
       "min           0.512824\n",
       "25%           7.094617\n",
       "50%           7.657552\n",
       "75%           8.259729\n",
       "max          11.703655\n",
       "Name: loss, dtype: float64"
      ]
     },
     "execution_count": 7,
     "metadata": {},
     "output_type": "execute_result"
    }
   ],
   "source": [
    "train.loss.describe()"
   ]
  },
  {
   "cell_type": "markdown",
   "metadata": {},
   "source": [
    "#### there is no missing value issue with data "
   ]
  },
  {
   "cell_type": "code",
   "execution_count": 8,
   "metadata": {},
   "outputs": [],
   "source": [
    "data = train.copy()\n",
    "valid = test.copy()\n",
    "del train\n",
    "del test"
   ]
  },
  {
   "cell_type": "code",
   "execution_count": 9,
   "metadata": {},
   "outputs": [
    {
     "name": "stdout",
     "output_type": "stream",
     "text": [
      "Categorical variables:\n",
      "116\n",
      "['cat1', 'cat2', 'cat3', 'cat4', 'cat5', 'cat6', 'cat7', 'cat8', 'cat9', 'cat10', 'cat11', 'cat12', 'cat13', 'cat14', 'cat15', 'cat16', 'cat17', 'cat18', 'cat19', 'cat20', 'cat21', 'cat22', 'cat23', 'cat24', 'cat25', 'cat26', 'cat27', 'cat28', 'cat29', 'cat30', 'cat31', 'cat32', 'cat33', 'cat34', 'cat35', 'cat36', 'cat37', 'cat38', 'cat39', 'cat40', 'cat41', 'cat42', 'cat43', 'cat44', 'cat45', 'cat46', 'cat47', 'cat48', 'cat49', 'cat50', 'cat51', 'cat52', 'cat53', 'cat54', 'cat55', 'cat56', 'cat57', 'cat58', 'cat59', 'cat60', 'cat61', 'cat62', 'cat63', 'cat64', 'cat65', 'cat66', 'cat67', 'cat68', 'cat69', 'cat70', 'cat71', 'cat72', 'cat73', 'cat74', 'cat75', 'cat76', 'cat77', 'cat78', 'cat79', 'cat80', 'cat81', 'cat82', 'cat83', 'cat84', 'cat85', 'cat86', 'cat87', 'cat88', 'cat89', 'cat90', 'cat91', 'cat92', 'cat93', 'cat94', 'cat95', 'cat96', 'cat97', 'cat98', 'cat99', 'cat100', 'cat101', 'cat102', 'cat103', 'cat104', 'cat105', 'cat106', 'cat107', 'cat108', 'cat109', 'cat110', 'cat111', 'cat112', 'cat113', 'cat114', 'cat115', 'cat116']\n"
     ]
    }
   ],
   "source": [
    "s = (data.dtypes == 'object')\n",
    "object_cols = list(s[s].index)\n",
    "\n",
    "print(\"Categorical variables:\")\n",
    "print(len(object_cols))\n",
    "print(object_cols)"
   ]
  },
  {
   "cell_type": "markdown",
   "metadata": {},
   "source": [
    "#### All the categorical features should be one hot encoded.... "
   ]
  },
  {
   "cell_type": "code",
   "execution_count": 10,
   "metadata": {},
   "outputs": [],
   "source": [
    "#combined the train and test so that get dummies can be applied on all at the same time. \n",
    "## But at the same time elimination due to correlation should be considered only of from train data. \n",
    "mergedata = data.append(valid)"
   ]
  },
  {
   "cell_type": "code",
   "execution_count": 11,
   "metadata": {},
   "outputs": [
    {
     "name": "stdout",
     "output_type": "stream",
     "text": [
      "(313864, 131)\n",
      "(125546, 130)\n",
      "188318\n",
      "125546\n"
     ]
    }
   ],
   "source": [
    "print(mergedata.shape)\n",
    "print(valid.shape)\n",
    "print(len(data))\n",
    "print(len(valid))"
   ]
  },
  {
   "cell_type": "markdown",
   "metadata": {},
   "source": [
    "### before doing one hot encoding using get dummies, 1] we need to remove highly mutual correlated features(one of the pair), 2] also the features with less correlation with the target.                                                  3] Then we need to remove the data that isn't properly distrubuted. "
   ]
  },
  {
   "cell_type": "code",
   "execution_count": 12,
   "metadata": {},
   "outputs": [],
   "source": [
    "#missingno.matrix(valid, figsize = (30,12))\n",
    "# no missings.."
   ]
  },
  {
   "cell_type": "code",
   "execution_count": 13,
   "metadata": {},
   "outputs": [],
   "source": [
    "#remove the one of the pair columns which have higher abs correlation \n",
    "data_corr = data.corr()\n",
    "listOfFeatures = [i for i in data_corr]\n",
    "setOfDroppedFeatures = set() \n",
    "for i in range(len(listOfFeatures)) :\n",
    "    for j in range(i+1,len(listOfFeatures)): #Avoid repetitions \n",
    "        feature1=listOfFeatures[i]\n",
    "        feature2=listOfFeatures[j]\n",
    "        if abs(data_corr[feature1][feature2]) > 0.8: #If the correlation between the features is > 0.8\n",
    "            setOfDroppedFeatures.add(feature1) "
   ]
  },
  {
   "cell_type": "code",
   "execution_count": 14,
   "metadata": {},
   "outputs": [],
   "source": [
    "mergedata = mergedata.drop(setOfDroppedFeatures, axis=1)"
   ]
  },
  {
   "cell_type": "markdown",
   "metadata": {},
   "source": [
    "##### Now the correlation with the target "
   ]
  },
  {
   "cell_type": "code",
   "execution_count": 15,
   "metadata": {},
   "outputs": [
    {
     "name": "stdout",
     "output_type": "stream",
     "text": [
      "12\n"
     ]
    }
   ],
   "source": [
    "s = (data.dtypes != 'object')\n",
    "non_object_cols = list(s[s].index)\n",
    "non_object_cols = [ col for col in non_object_cols if col not in setOfDroppedFeatures ]\n",
    "print(len(non_object_cols))"
   ]
  },
  {
   "cell_type": "code",
   "execution_count": 16,
   "metadata": {},
   "outputs": [
    {
     "name": "stdout",
     "output_type": "stream",
     "text": [
      "4\n"
     ]
    },
    {
     "data": {
      "text/plain": [
       "['cont5', 'cont9', 'cont10', 'cont13']"
      ]
     },
     "execution_count": 16,
     "metadata": {},
     "output_type": "execute_result"
    }
   ],
   "source": [
    "nonCorrelatedWithOutput = [column for column in non_object_cols if abs(data[column].corr(data[\"loss\"])) < 0.025]\n",
    "print(len(nonCorrelatedWithOutput))\n",
    "nonCorrelatedWithOutput"
   ]
  },
  {
   "cell_type": "code",
   "execution_count": 17,
   "metadata": {},
   "outputs": [],
   "source": [
    "mergedata = mergedata.drop(nonCorrelatedWithOutput, axis=1)"
   ]
  },
  {
   "cell_type": "markdown",
   "metadata": {},
   "source": [
    "### Non correlated cols are removed..."
   ]
  },
  {
   "cell_type": "code",
   "execution_count": 18,
   "metadata": {},
   "outputs": [
    {
     "data": {
      "text/plain": [
       "(313864, 124)"
      ]
     },
     "execution_count": 18,
     "metadata": {},
     "output_type": "execute_result"
    }
   ],
   "source": [
    "mergedata.shape"
   ]
  },
  {
   "cell_type": "markdown",
   "metadata": {},
   "source": [
    "![](http://)### By observing the distrubutions(very uneven), mey be we should drop some of the features. "
   ]
  },
  {
   "cell_type": "code",
   "execution_count": 19,
   "metadata": {},
   "outputs": [],
   "source": [
    "# #uncomment if want to see the visualizatio of distribution (takes time)\n",
    "\n",
    "# #names of all the columns\n",
    "# cols = data.columns\n",
    "\n",
    "# #Plot count plot for all attributes in a 29x4 grid\n",
    "# n_cols = 4\n",
    "# n_rows = 29\n",
    "# for i in range(n_rows):\n",
    "#     fg,ax = plt.subplots(nrows=1,ncols=n_cols,sharey=True,figsize=(12, 8))\n",
    "#     for j in range(n_cols):\n",
    "#         sns.countplot(x=cols[i*n_cols+j], data=data, ax=ax[j])\n"
   ]
  },
  {
   "cell_type": "code",
   "execution_count": 20,
   "metadata": {},
   "outputs": [],
   "source": [
    "# cols taken from the visualization plots.\n",
    "# to-do: find out generic method to do the same. \n",
    "unbalanced_cols = ['cat15','cat18','cat20','cat21','cat22','cat33','cat35','cat48','cat56','cat58',\n",
    "                   'cat59','cat60','cat62','cat63','cat64','cat67','cat68','cat69','cat70','cat77']"
   ]
  },
  {
   "cell_type": "code",
   "execution_count": 21,
   "metadata": {},
   "outputs": [
    {
     "name": "stdout",
     "output_type": "stream",
     "text": [
      "(313864, 104)\n"
     ]
    }
   ],
   "source": [
    "mergedata = mergedata.drop(unbalanced_cols, axis=1)\n",
    "print(mergedata.shape)"
   ]
  },
  {
   "cell_type": "markdown",
   "metadata": {},
   "source": [
    "### Now one hot encoding!!"
   ]
  },
  {
   "cell_type": "code",
   "execution_count": 22,
   "metadata": {},
   "outputs": [
    {
     "data": {
      "text/plain": [
       "(313864, 1142)"
      ]
     },
     "execution_count": 22,
     "metadata": {},
     "output_type": "execute_result"
    }
   ],
   "source": [
    "mergedata_ohe = pd.get_dummies(mergedata)\n",
    "mergedata_ohe.shape"
   ]
  },
  {
   "cell_type": "code",
   "execution_count": 23,
   "metadata": {},
   "outputs": [
    {
     "name": "stdout",
     "output_type": "stream",
     "text": [
      "train len :  188318\n",
      "(188318, 1142)\n",
      "(125546, 1142)\n"
     ]
    }
   ],
   "source": [
    "# seperate the train and test from mergedata\n",
    "trainLen = len(data)\n",
    "print(\"train len : \", trainLen)\n",
    "train_ohe = mergedata_ohe.iloc[:trainLen]\n",
    "test_ohe = mergedata_ohe.iloc[trainLen:]\n",
    "\n",
    "del mergedata_ohe\n",
    "del data\n",
    "del valid\n",
    "\n",
    "print(train_ohe.shape)\n",
    "print(test_ohe.shape)"
   ]
  },
  {
   "cell_type": "code",
   "execution_count": 24,
   "metadata": {},
   "outputs": [
    {
     "name": "stdout",
     "output_type": "stream",
     "text": [
      "125546\n"
     ]
    }
   ],
   "source": [
    "print(test_ohe.loss.isnull().sum())\n",
    "# We should remove the extra added loss column to the test data\n",
    "test_ohe = test_ohe.drop(\"loss\", axis = 1)"
   ]
  },
  {
   "cell_type": "markdown",
   "metadata": {},
   "source": [
    "### Done with the encoding and EDA so far. Will have to check with different  alternatives : 1] with out dropping unbalanced data. 2] without the skew fixing  "
   ]
  },
  {
   "cell_type": "markdown",
   "metadata": {},
   "source": [
    "### *** let's try ML now"
   ]
  },
  {
   "cell_type": "code",
   "execution_count": 25,
   "metadata": {},
   "outputs": [],
   "source": [
    "#Build and fit the model\n",
    "from sklearn.pipeline import make_pipeline\n",
    "from sklearn.preprocessing import RobustScaler\n",
    "from sklearn.linear_model import Lasso, Ridge\n",
    "import xgboost as xgb # XGBoost implementation\n",
    "lasso = make_pipeline(RobustScaler(), Lasso(alpha =0.0007, random_state=1))\n",
    "ridge = make_pipeline(RobustScaler(), Ridge(alpha =20, random_state=42))"
   ]
  },
  {
   "cell_type": "code",
   "execution_count": 26,
   "metadata": {},
   "outputs": [
    {
     "name": "stdout",
     "output_type": "stream",
     "text": [
      "(188318, 1141)\n",
      "(188318,)\n"
     ]
    }
   ],
   "source": [
    "X_train = train_ohe.drop(\"loss\", axis = 1)\n",
    "Y_train = train_ohe[\"loss\"]\n",
    "print(X_train.shape)\n",
    "print(Y_train.shape)\n",
    "del train_ohe"
   ]
  },
  {
   "cell_type": "code",
   "execution_count": 27,
   "metadata": {},
   "outputs": [],
   "source": [
    "## lasso \n",
    "# lasso.fit(X_train, y_train)\n",
    "# test_y_log = lasso.predict(test_ohe)\n",
    "# test_y = np.exp(1)**test_y_log"
   ]
  },
  {
   "cell_type": "code",
   "execution_count": 28,
   "metadata": {},
   "outputs": [
    {
     "name": "stdout",
     "output_type": "stream",
     "text": [
      "[0]\ttrain-rmse:0.803891\teval-rmse:0.798921\n",
      "[1]\ttrain-rmse:0.793599\teval-rmse:0.789022\n",
      "[2]\ttrain-rmse:0.783078\teval-rmse:0.778837\n",
      "[3]\ttrain-rmse:0.773217\teval-rmse:0.769347\n",
      "[4]\ttrain-rmse:0.763327\teval-rmse:0.759758\n",
      "[5]\ttrain-rmse:0.753726\teval-rmse:0.75063\n",
      "[6]\ttrain-rmse:0.744794\teval-rmse:0.742198\n",
      "[7]\ttrain-rmse:0.736444\teval-rmse:0.734235\n",
      "[8]\ttrain-rmse:0.728168\teval-rmse:0.726356\n",
      "[9]\ttrain-rmse:0.719972\teval-rmse:0.71854\n",
      "[10]\ttrain-rmse:0.712282\teval-rmse:0.711291\n",
      "[11]\ttrain-rmse:0.704743\teval-rmse:0.704252\n",
      "[12]\ttrain-rmse:0.697701\teval-rmse:0.697601\n",
      "[13]\ttrain-rmse:0.690952\teval-rmse:0.691232\n",
      "[14]\ttrain-rmse:0.684381\teval-rmse:0.685148\n",
      "[15]\ttrain-rmse:0.678252\teval-rmse:0.67936\n",
      "[16]\ttrain-rmse:0.672439\teval-rmse:0.673908\n",
      "[17]\ttrain-rmse:0.666776\teval-rmse:0.66863\n",
      "[18]\ttrain-rmse:0.661132\teval-rmse:0.663438\n",
      "[19]\ttrain-rmse:0.655916\teval-rmse:0.658651\n",
      "[20]\ttrain-rmse:0.650948\teval-rmse:0.654039\n",
      "[21]\ttrain-rmse:0.645981\teval-rmse:0.649467\n",
      "[22]\ttrain-rmse:0.641428\teval-rmse:0.64528\n",
      "[23]\ttrain-rmse:0.636802\teval-rmse:0.640982\n",
      "[24]\ttrain-rmse:0.632427\teval-rmse:0.637051\n",
      "[25]\ttrain-rmse:0.628282\teval-rmse:0.63322\n",
      "[26]\ttrain-rmse:0.624657\teval-rmse:0.629924\n",
      "[27]\ttrain-rmse:0.621031\teval-rmse:0.626545\n",
      "[28]\ttrain-rmse:0.617308\teval-rmse:0.623305\n",
      "[29]\ttrain-rmse:0.613733\teval-rmse:0.620137\n",
      "[30]\ttrain-rmse:0.610509\teval-rmse:0.617267\n",
      "[31]\ttrain-rmse:0.60728\teval-rmse:0.614435\n",
      "[32]\ttrain-rmse:0.604097\teval-rmse:0.611698\n",
      "[33]\ttrain-rmse:0.600902\teval-rmse:0.608956\n",
      "[34]\ttrain-rmse:0.597931\teval-rmse:0.60631\n",
      "[35]\ttrain-rmse:0.595253\teval-rmse:0.603994\n",
      "[36]\ttrain-rmse:0.592457\teval-rmse:0.601579\n",
      "[37]\ttrain-rmse:0.589573\teval-rmse:0.599167\n",
      "[38]\ttrain-rmse:0.587052\teval-rmse:0.597003\n",
      "[39]\ttrain-rmse:0.584635\teval-rmse:0.594892\n",
      "[40]\ttrain-rmse:0.582205\teval-rmse:0.592875\n",
      "[41]\ttrain-rmse:0.579957\teval-rmse:0.591023\n",
      "[42]\ttrain-rmse:0.577935\teval-rmse:0.589315\n",
      "[43]\ttrain-rmse:0.575772\teval-rmse:0.587524\n",
      "[44]\ttrain-rmse:0.57371\teval-rmse:0.585838\n",
      "[45]\ttrain-rmse:0.571693\teval-rmse:0.584148\n",
      "[46]\ttrain-rmse:0.569787\teval-rmse:0.582597\n",
      "[47]\ttrain-rmse:0.567725\teval-rmse:0.58094\n",
      "[48]\ttrain-rmse:0.565907\teval-rmse:0.579501\n",
      "[49]\ttrain-rmse:0.564246\teval-rmse:0.578182\n",
      "[50]\ttrain-rmse:0.562584\teval-rmse:0.576866\n",
      "[51]\ttrain-rmse:0.560968\teval-rmse:0.575585\n",
      "[52]\ttrain-rmse:0.559385\teval-rmse:0.574346\n",
      "[53]\ttrain-rmse:0.557854\teval-rmse:0.573259\n",
      "[54]\ttrain-rmse:0.556455\teval-rmse:0.572146\n",
      "[55]\ttrain-rmse:0.555104\teval-rmse:0.571062\n",
      "[56]\ttrain-rmse:0.553833\teval-rmse:0.570087\n",
      "[57]\ttrain-rmse:0.552529\teval-rmse:0.569141\n",
      "[58]\ttrain-rmse:0.551153\teval-rmse:0.568097\n",
      "[59]\ttrain-rmse:0.549878\teval-rmse:0.567185\n",
      "[60]\ttrain-rmse:0.5488\teval-rmse:0.566409\n",
      "[61]\ttrain-rmse:0.547581\teval-rmse:0.565554\n",
      "[62]\ttrain-rmse:0.546572\teval-rmse:0.564753\n",
      "[63]\ttrain-rmse:0.545348\teval-rmse:0.563824\n",
      "[64]\ttrain-rmse:0.544256\teval-rmse:0.562946\n",
      "[65]\ttrain-rmse:0.543368\teval-rmse:0.56225\n",
      "[66]\ttrain-rmse:0.542268\teval-rmse:0.561534\n",
      "[67]\ttrain-rmse:0.54128\teval-rmse:0.560849\n",
      "[68]\ttrain-rmse:0.540411\teval-rmse:0.560205\n",
      "[69]\ttrain-rmse:0.539523\teval-rmse:0.559571\n",
      "[70]\ttrain-rmse:0.538695\teval-rmse:0.558999\n",
      "[71]\ttrain-rmse:0.537703\teval-rmse:0.558361\n",
      "[72]\ttrain-rmse:0.53683\teval-rmse:0.557689\n",
      "[73]\ttrain-rmse:0.535951\teval-rmse:0.557055\n",
      "[74]\ttrain-rmse:0.535155\teval-rmse:0.556468\n",
      "[75]\ttrain-rmse:0.534422\teval-rmse:0.555956\n",
      "[76]\ttrain-rmse:0.533606\teval-rmse:0.555408\n",
      "[77]\ttrain-rmse:0.532928\teval-rmse:0.554974\n",
      "[78]\ttrain-rmse:0.532149\teval-rmse:0.554439\n",
      "[79]\ttrain-rmse:0.531556\teval-rmse:0.554007\n",
      "[80]\ttrain-rmse:0.530979\teval-rmse:0.553601\n",
      "[81]\ttrain-rmse:0.53032\teval-rmse:0.553171\n",
      "[82]\ttrain-rmse:0.529698\teval-rmse:0.552739\n",
      "[83]\ttrain-rmse:0.52907\teval-rmse:0.552288\n",
      "[84]\ttrain-rmse:0.528428\teval-rmse:0.551862\n",
      "[85]\ttrain-rmse:0.527897\teval-rmse:0.551477\n",
      "[86]\ttrain-rmse:0.527341\teval-rmse:0.55112\n",
      "[87]\ttrain-rmse:0.526789\teval-rmse:0.550716\n",
      "[88]\ttrain-rmse:0.526276\teval-rmse:0.550387\n",
      "[89]\ttrain-rmse:0.525882\teval-rmse:0.550105\n",
      "[90]\ttrain-rmse:0.525394\teval-rmse:0.549791\n",
      "[91]\ttrain-rmse:0.524737\teval-rmse:0.549417\n",
      "[92]\ttrain-rmse:0.524278\teval-rmse:0.549118\n",
      "[93]\ttrain-rmse:0.523818\teval-rmse:0.548786\n",
      "[94]\ttrain-rmse:0.523283\teval-rmse:0.548491\n",
      "[95]\ttrain-rmse:0.522807\teval-rmse:0.548166\n",
      "[96]\ttrain-rmse:0.522303\teval-rmse:0.547883\n",
      "[97]\ttrain-rmse:0.521903\teval-rmse:0.547625\n",
      "[98]\ttrain-rmse:0.521446\teval-rmse:0.547298\n",
      "[99]\ttrain-rmse:0.520927\teval-rmse:0.547022\n",
      "[100]\ttrain-rmse:0.520445\teval-rmse:0.546739\n",
      "[101]\ttrain-rmse:0.520044\teval-rmse:0.546482\n",
      "[102]\ttrain-rmse:0.51967\teval-rmse:0.546234\n",
      "[103]\ttrain-rmse:0.519211\teval-rmse:0.545938\n",
      "[104]\ttrain-rmse:0.518692\teval-rmse:0.545683\n",
      "[105]\ttrain-rmse:0.518327\teval-rmse:0.545448\n",
      "[106]\ttrain-rmse:0.517954\teval-rmse:0.545273\n",
      "[107]\ttrain-rmse:0.517578\teval-rmse:0.545049\n",
      "[108]\ttrain-rmse:0.517258\teval-rmse:0.544876\n",
      "[109]\ttrain-rmse:0.51684\teval-rmse:0.544663\n",
      "[110]\ttrain-rmse:0.516411\teval-rmse:0.54446\n",
      "[111]\ttrain-rmse:0.516059\teval-rmse:0.544254\n",
      "[112]\ttrain-rmse:0.51565\teval-rmse:0.544062\n",
      "[113]\ttrain-rmse:0.515263\teval-rmse:0.543831\n",
      "[114]\ttrain-rmse:0.514845\teval-rmse:0.54362\n",
      "[115]\ttrain-rmse:0.514529\teval-rmse:0.543456\n",
      "[116]\ttrain-rmse:0.514154\teval-rmse:0.543216\n",
      "[117]\ttrain-rmse:0.513854\teval-rmse:0.543049\n",
      "[118]\ttrain-rmse:0.513554\teval-rmse:0.542882\n",
      "[119]\ttrain-rmse:0.513238\teval-rmse:0.54272\n",
      "[120]\ttrain-rmse:0.512895\teval-rmse:0.542544\n",
      "[121]\ttrain-rmse:0.512632\teval-rmse:0.542414\n",
      "[122]\ttrain-rmse:0.512309\teval-rmse:0.54222\n",
      "[123]\ttrain-rmse:0.512007\teval-rmse:0.542073\n",
      "[124]\ttrain-rmse:0.511686\teval-rmse:0.541877\n",
      "[125]\ttrain-rmse:0.511408\teval-rmse:0.541724\n",
      "[126]\ttrain-rmse:0.511111\teval-rmse:0.541545\n",
      "[127]\ttrain-rmse:0.510885\teval-rmse:0.541414\n",
      "[128]\ttrain-rmse:0.510531\teval-rmse:0.541258\n",
      "[129]\ttrain-rmse:0.510258\teval-rmse:0.541119\n",
      "[130]\ttrain-rmse:0.510014\teval-rmse:0.540998\n",
      "[131]\ttrain-rmse:0.509725\teval-rmse:0.540841\n",
      "[132]\ttrain-rmse:0.509445\teval-rmse:0.540735\n",
      "[133]\ttrain-rmse:0.509182\teval-rmse:0.540579\n",
      "[134]\ttrain-rmse:0.508939\teval-rmse:0.540421\n",
      "[135]\ttrain-rmse:0.508636\teval-rmse:0.540228\n",
      "[136]\ttrain-rmse:0.508433\teval-rmse:0.540122\n",
      "[137]\ttrain-rmse:0.508207\teval-rmse:0.539995\n",
      "[138]\ttrain-rmse:0.507961\teval-rmse:0.539884\n",
      "[139]\ttrain-rmse:0.507749\teval-rmse:0.539778\n",
      "[140]\ttrain-rmse:0.507526\teval-rmse:0.539683\n",
      "[141]\ttrain-rmse:0.507361\teval-rmse:0.539591\n",
      "[142]\ttrain-rmse:0.507103\teval-rmse:0.539486\n",
      "[143]\ttrain-rmse:0.506838\teval-rmse:0.539392\n",
      "[144]\ttrain-rmse:0.506624\teval-rmse:0.539281\n",
      "[145]\ttrain-rmse:0.50644\teval-rmse:0.539189\n",
      "[146]\ttrain-rmse:0.506156\teval-rmse:0.539079\n",
      "[147]\ttrain-rmse:0.505994\teval-rmse:0.53899\n",
      "[148]\ttrain-rmse:0.505811\teval-rmse:0.538917\n",
      "[149]\ttrain-rmse:0.505654\teval-rmse:0.538831\n",
      "[150]\ttrain-rmse:0.505432\teval-rmse:0.53869\n",
      "[151]\ttrain-rmse:0.505259\teval-rmse:0.538571\n",
      "[152]\ttrain-rmse:0.504946\teval-rmse:0.538441\n",
      "[153]\ttrain-rmse:0.50477\teval-rmse:0.538364\n",
      "[154]\ttrain-rmse:0.50457\teval-rmse:0.538285\n",
      "[155]\ttrain-rmse:0.504396\teval-rmse:0.53821\n",
      "[156]\ttrain-rmse:0.504191\teval-rmse:0.53816\n",
      "[157]\ttrain-rmse:0.50398\teval-rmse:0.538061\n",
      "[158]\ttrain-rmse:0.503686\teval-rmse:0.537995\n",
      "[159]\ttrain-rmse:0.503449\teval-rmse:0.537903\n",
      "[160]\ttrain-rmse:0.503204\teval-rmse:0.537836\n",
      "[161]\ttrain-rmse:0.502924\teval-rmse:0.537756\n",
      "[162]\ttrain-rmse:0.502693\teval-rmse:0.53765\n",
      "[163]\ttrain-rmse:0.502564\teval-rmse:0.537597\n",
      "[164]\ttrain-rmse:0.502449\teval-rmse:0.537541\n",
      "[165]\ttrain-rmse:0.502227\teval-rmse:0.537465\n",
      "[166]\ttrain-rmse:0.502126\teval-rmse:0.537404\n",
      "[167]\ttrain-rmse:0.501907\teval-rmse:0.537347\n",
      "[168]\ttrain-rmse:0.501753\teval-rmse:0.537291\n",
      "[169]\ttrain-rmse:0.501576\teval-rmse:0.537243\n",
      "[170]\ttrain-rmse:0.501434\teval-rmse:0.537189\n",
      "[171]\ttrain-rmse:0.501241\teval-rmse:0.537119\n",
      "[172]\ttrain-rmse:0.501122\teval-rmse:0.537048\n",
      "[173]\ttrain-rmse:0.500945\teval-rmse:0.536986\n",
      "[174]\ttrain-rmse:0.500811\teval-rmse:0.536941\n",
      "[175]\ttrain-rmse:0.500674\teval-rmse:0.536875\n",
      "[176]\ttrain-rmse:0.500521\teval-rmse:0.536792\n",
      "[177]\ttrain-rmse:0.500361\teval-rmse:0.536748\n",
      "[178]\ttrain-rmse:0.50021\teval-rmse:0.536693\n",
      "[179]\ttrain-rmse:0.500071\teval-rmse:0.536636\n",
      "[180]\ttrain-rmse:0.499886\teval-rmse:0.536558\n",
      "[181]\ttrain-rmse:0.49969\teval-rmse:0.536508\n",
      "[182]\ttrain-rmse:0.499568\teval-rmse:0.536459\n",
      "[183]\ttrain-rmse:0.499367\teval-rmse:0.536391\n",
      "[184]\ttrain-rmse:0.499211\teval-rmse:0.536374\n",
      "[185]\ttrain-rmse:0.49906\teval-rmse:0.536333\n",
      "[186]\ttrain-rmse:0.498969\teval-rmse:0.536294\n",
      "[187]\ttrain-rmse:0.498779\teval-rmse:0.53624\n",
      "[188]\ttrain-rmse:0.498594\teval-rmse:0.536202\n",
      "[189]\ttrain-rmse:0.498472\teval-rmse:0.536157\n",
      "[190]\ttrain-rmse:0.498356\teval-rmse:0.536138\n",
      "[191]\ttrain-rmse:0.498207\teval-rmse:0.536094\n",
      "[192]\ttrain-rmse:0.49808\teval-rmse:0.53603\n",
      "[193]\ttrain-rmse:0.497915\teval-rmse:0.536001\n",
      "[194]\ttrain-rmse:0.49779\teval-rmse:0.535939\n",
      "[195]\ttrain-rmse:0.49761\teval-rmse:0.535886\n",
      "[196]\ttrain-rmse:0.497424\teval-rmse:0.535789\n",
      "[197]\ttrain-rmse:0.497279\teval-rmse:0.535717\n",
      "[198]\ttrain-rmse:0.497153\teval-rmse:0.535671\n",
      "[199]\ttrain-rmse:0.497039\teval-rmse:0.535633\n",
      "[200]\ttrain-rmse:0.496896\teval-rmse:0.535591\n",
      "[201]\ttrain-rmse:0.496819\teval-rmse:0.535559\n",
      "[202]\ttrain-rmse:0.49667\teval-rmse:0.535519\n",
      "[203]\ttrain-rmse:0.496556\teval-rmse:0.535492\n",
      "[204]\ttrain-rmse:0.496367\teval-rmse:0.535456\n",
      "[205]\ttrain-rmse:0.496263\teval-rmse:0.53543\n",
      "[206]\ttrain-rmse:0.496156\teval-rmse:0.535379\n",
      "[207]\ttrain-rmse:0.496039\teval-rmse:0.535341\n",
      "[208]\ttrain-rmse:0.495953\teval-rmse:0.535289\n",
      "[209]\ttrain-rmse:0.495855\teval-rmse:0.535255\n",
      "[210]\ttrain-rmse:0.49576\teval-rmse:0.535219\n",
      "[211]\ttrain-rmse:0.495677\teval-rmse:0.535182\n",
      "[212]\ttrain-rmse:0.495591\teval-rmse:0.535156\n",
      "[213]\ttrain-rmse:0.495488\teval-rmse:0.535095\n",
      "[214]\ttrain-rmse:0.495397\teval-rmse:0.535063\n",
      "[215]\ttrain-rmse:0.495274\teval-rmse:0.535028\n",
      "[216]\ttrain-rmse:0.495195\teval-rmse:0.534989\n",
      "[217]\ttrain-rmse:0.495087\teval-rmse:0.534954\n",
      "[218]\ttrain-rmse:0.495009\teval-rmse:0.534924\n",
      "[219]\ttrain-rmse:0.494883\teval-rmse:0.534894\n",
      "[220]\ttrain-rmse:0.494816\teval-rmse:0.534871\n",
      "[221]\ttrain-rmse:0.494695\teval-rmse:0.534821\n",
      "[222]\ttrain-rmse:0.49464\teval-rmse:0.534813\n",
      "[223]\ttrain-rmse:0.494537\teval-rmse:0.534805\n",
      "[224]\ttrain-rmse:0.494422\teval-rmse:0.534787\n",
      "[225]\ttrain-rmse:0.494332\teval-rmse:0.534751\n",
      "[226]\ttrain-rmse:0.494205\teval-rmse:0.534714\n",
      "[227]\ttrain-rmse:0.494137\teval-rmse:0.534694\n",
      "[228]\ttrain-rmse:0.493989\teval-rmse:0.534643\n",
      "[229]\ttrain-rmse:0.493926\teval-rmse:0.534614\n",
      "[230]\ttrain-rmse:0.493852\teval-rmse:0.534584\n",
      "[231]\ttrain-rmse:0.493798\teval-rmse:0.534564\n",
      "[232]\ttrain-rmse:0.493665\teval-rmse:0.534545\n",
      "[233]\ttrain-rmse:0.49358\teval-rmse:0.534527\n",
      "[234]\ttrain-rmse:0.493479\teval-rmse:0.534503\n",
      "[235]\ttrain-rmse:0.493404\teval-rmse:0.534469\n",
      "[236]\ttrain-rmse:0.493308\teval-rmse:0.534449\n",
      "[237]\ttrain-rmse:0.493143\teval-rmse:0.534408\n",
      "[238]\ttrain-rmse:0.49303\teval-rmse:0.534377\n",
      "[239]\ttrain-rmse:0.492896\teval-rmse:0.534341\n",
      "[240]\ttrain-rmse:0.4928\teval-rmse:0.534324\n",
      "[241]\ttrain-rmse:0.492748\teval-rmse:0.534298\n",
      "[242]\ttrain-rmse:0.492686\teval-rmse:0.534282\n",
      "[243]\ttrain-rmse:0.492565\teval-rmse:0.534252\n",
      "[244]\ttrain-rmse:0.492479\teval-rmse:0.534192\n",
      "[245]\ttrain-rmse:0.492435\teval-rmse:0.534164\n",
      "[246]\ttrain-rmse:0.492336\teval-rmse:0.534146\n",
      "[247]\ttrain-rmse:0.492253\teval-rmse:0.534144\n",
      "[248]\ttrain-rmse:0.492193\teval-rmse:0.534117\n",
      "[249]\ttrain-rmse:0.492111\teval-rmse:0.534097\n",
      "[250]\ttrain-rmse:0.492026\teval-rmse:0.534062\n",
      "[251]\ttrain-rmse:0.49199\teval-rmse:0.534042\n",
      "[252]\ttrain-rmse:0.491894\teval-rmse:0.53404\n",
      "[253]\ttrain-rmse:0.491795\teval-rmse:0.534011\n",
      "[254]\ttrain-rmse:0.491712\teval-rmse:0.533992\n",
      "[255]\ttrain-rmse:0.491632\teval-rmse:0.533946\n",
      "[256]\ttrain-rmse:0.491559\teval-rmse:0.533925\n",
      "[257]\ttrain-rmse:0.491498\teval-rmse:0.53393\n",
      "[258]\ttrain-rmse:0.491401\teval-rmse:0.5339\n",
      "[259]\ttrain-rmse:0.491353\teval-rmse:0.533884\n",
      "[260]\ttrain-rmse:0.491283\teval-rmse:0.533858\n",
      "[261]\ttrain-rmse:0.491189\teval-rmse:0.53384\n",
      "[262]\ttrain-rmse:0.491105\teval-rmse:0.533823\n",
      "[263]\ttrain-rmse:0.491003\teval-rmse:0.533776\n",
      "[264]\ttrain-rmse:0.490901\teval-rmse:0.533754\n",
      "[265]\ttrain-rmse:0.490836\teval-rmse:0.533725\n",
      "[266]\ttrain-rmse:0.490786\teval-rmse:0.533703\n",
      "[267]\ttrain-rmse:0.490684\teval-rmse:0.53367\n",
      "[268]\ttrain-rmse:0.490615\teval-rmse:0.533662\n",
      "[269]\ttrain-rmse:0.490527\teval-rmse:0.533653\n",
      "[270]\ttrain-rmse:0.490457\teval-rmse:0.533614\n",
      "[271]\ttrain-rmse:0.490392\teval-rmse:0.533595\n",
      "[272]\ttrain-rmse:0.490345\teval-rmse:0.533574\n",
      "[273]\ttrain-rmse:0.490297\teval-rmse:0.533567\n",
      "[274]\ttrain-rmse:0.490248\teval-rmse:0.533548\n",
      "[275]\ttrain-rmse:0.490204\teval-rmse:0.533537\n",
      "[276]\ttrain-rmse:0.490158\teval-rmse:0.533524\n",
      "[277]\ttrain-rmse:0.490102\teval-rmse:0.533515\n",
      "[278]\ttrain-rmse:0.490035\teval-rmse:0.533491\n",
      "[279]\ttrain-rmse:0.489928\teval-rmse:0.533487\n",
      "[280]\ttrain-rmse:0.489825\teval-rmse:0.533471\n",
      "[281]\ttrain-rmse:0.489729\teval-rmse:0.53345\n",
      "[282]\ttrain-rmse:0.489641\teval-rmse:0.533428\n",
      "[283]\ttrain-rmse:0.489587\teval-rmse:0.533401\n",
      "[284]\ttrain-rmse:0.489543\teval-rmse:0.533393\n",
      "[285]\ttrain-rmse:0.489456\teval-rmse:0.533382\n",
      "[286]\ttrain-rmse:0.489396\teval-rmse:0.533363\n",
      "[287]\ttrain-rmse:0.489346\teval-rmse:0.533354\n",
      "[288]\ttrain-rmse:0.489316\teval-rmse:0.53334\n",
      "[289]\ttrain-rmse:0.489255\teval-rmse:0.533323\n",
      "[290]\ttrain-rmse:0.489208\teval-rmse:0.533311\n",
      "[291]\ttrain-rmse:0.489133\teval-rmse:0.5333\n",
      "[292]\ttrain-rmse:0.489105\teval-rmse:0.533284\n",
      "[293]\ttrain-rmse:0.489033\teval-rmse:0.533279\n",
      "[294]\ttrain-rmse:0.488965\teval-rmse:0.533249\n",
      "[295]\ttrain-rmse:0.488841\teval-rmse:0.533251\n",
      "[296]\ttrain-rmse:0.488798\teval-rmse:0.533247\n",
      "[297]\ttrain-rmse:0.488777\teval-rmse:0.533244\n",
      "[298]\ttrain-rmse:0.488717\teval-rmse:0.533239\n",
      "[299]\ttrain-rmse:0.48866\teval-rmse:0.533219\n"
     ]
    }
   ],
   "source": [
    "from sklearn.model_selection import train_test_split\n",
    "x_train, x_valid, y_train, y_valid = train_test_split(X_train, Y_train, train_size=.90,random_state=2016)\n",
    "\n",
    "\n",
    "RANDOM_STATE = 2016\n",
    "#'seed': RANDOM_STATE,\n",
    "params = {\n",
    "    'min_child_weight': 1,\n",
    "    'eta': 0.03,\n",
    "    'colsample_bytree': 0.5,\n",
    "    'max_depth': 12,\n",
    "    'subsample': 0.8,\n",
    "    'alpha': 1,\n",
    "    'seed': RANDOM_STATE,\n",
    "    'gamma': 1.5,\n",
    "    'silent': 1,\n",
    "    'verbose_eval': True,\n",
    "    'nthread':7,\n",
    "    'base_score':7.76\n",
    "}\n",
    "\n",
    "\n",
    "\n",
    "xgtrain = xgb.DMatrix(x_train, label=y_train)\n",
    "xgval = xgb.DMatrix(x_valid, label=y_valid)\n",
    "\n",
    "watchlist = [ (xgtrain,'train'),(xgval,'eval')]\n",
    "\n",
    "model = xgb.train(params, xgtrain,300, watchlist,verbose_eval=True)\n",
    "\n",
    "del xgtrain\n",
    "del xgval\n",
    "xgtest = xgb.DMatrix(test_ohe)\n",
    "test_y_log = model.predict(xgtest)\n",
    "test_y = np.exp(1)**test_y_log"
   ]
  },
  {
   "cell_type": "code",
   "execution_count": 29,
   "metadata": {},
   "outputs": [],
   "source": [
    "del X_train\n",
    "del y_train"
   ]
  },
  {
   "cell_type": "code",
   "execution_count": 30,
   "metadata": {},
   "outputs": [
    {
     "name": "stdout",
     "output_type": "stream",
     "text": [
      "(125546,)\n",
      "(125546,)\n"
     ]
    }
   ],
   "source": [
    "submission = pd.DataFrame()\n",
    "submission[\"id\"] = test_id\n",
    "print(test_y.shape)\n",
    "print(test_id.shape)\n",
    "\n",
    "submission[\"loss\"] = test_y\n",
    "submission.to_csv(\"submission_svm_l.csv\", index=False)"
   ]
  },
  {
   "cell_type": "code",
   "execution_count": 31,
   "metadata": {},
   "outputs": [],
   "source": [
    "# score is : 1126.77"
   ]
  }
 ],
 "metadata": {
  "kernelspec": {
   "display_name": "Python 3",
   "language": "python",
   "name": "python3"
  },
  "language_info": {
   "codemirror_mode": {
    "name": "ipython",
    "version": 3
   },
   "file_extension": ".py",
   "mimetype": "text/x-python",
   "name": "python",
   "nbconvert_exporter": "python",
   "pygments_lexer": "ipython3",
   "version": "3.6.6"
  }
 },
 "nbformat": 4,
 "nbformat_minor": 1
}
